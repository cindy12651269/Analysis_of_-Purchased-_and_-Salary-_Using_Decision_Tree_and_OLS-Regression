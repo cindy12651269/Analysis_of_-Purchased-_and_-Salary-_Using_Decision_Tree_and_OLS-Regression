{
  "nbformat": 4,
  "nbformat_minor": 0,
  "metadata": {
    "colab": {
      "provenance": [],
      "authorship_tag": "ABX9TyN/sT+o9HD/C4BCRw+lzhIm",
      "include_colab_link": true
    },
    "kernelspec": {
      "name": "python3",
      "display_name": "Python 3"
    },
    "language_info": {
      "name": "python"
    }
  },
  "cells": [
    {
      "cell_type": "markdown",
      "metadata": {
        "id": "view-in-github",
        "colab_type": "text"
      },
      "source": [
        "<a href=\"https://colab.research.google.com/github/cindy12651269/Analysis_of_-Purchased-_and_-Salary-_Using_Decision_Tree_and_OLS-Regression/blob/cindy12651269%2Fhw1/Analysis_of_'Purchased'_and_'Salary'_Using_Decision_Tree_and_OLS_Regression.ipynb\" target=\"_parent\"><img src=\"https://colab.research.google.com/assets/colab-badge.svg\" alt=\"Open In Colab\"/></a>"
      ]
    },
    {
      "cell_type": "code",
      "source": [
        "import pandas as pd\n",
        "from sklearn.preprocessing import LabelEncoder\n",
        "from sklearn.tree import DecisionTreeClassifier\n",
        "from sklearn.metrics import accuracy_score, mean_squared_error, mean_absolute_error\n",
        "import statsmodels.api as sm\n",
        "import numpy as np\n",
        "\n",
        "# Load the dataset\n",
        "source = 'https://raw.githubusercontent.com/MachineLearningLiuMing/scikit-learn-primer-guide/master/Data.csv'\n",
        "df = pd.read_csv(source, sep=',', encoding='utf-8', engine='python')\n",
        "\n",
        "# Fill missing values in 'Salary' and 'Age' with the mean values for each country\n",
        "df['Salary'] = df.groupby('Country')['Salary'].transform(lambda x: x.fillna(x.mean()))\n",
        "df['Age'] = df.groupby('Country')['Age'].transform(lambda x: x.fillna(x.mean()))\n",
        "\n",
        "# Label encoding for 'Purchased' and 'Country'\n",
        "label_encoder = LabelEncoder()\n",
        "df['Purchase_label'] = label_encoder.fit_transform(df['Purchased'])\n",
        "df['Country_label'] = label_encoder.fit_transform(df['Country'])\n",
        "\n",
        "# Split the data into training (first 7 rows) and testing (last 3 rows) sets\n",
        "train = df[:7]\n",
        "y_train_clf = train['Purchase_label']\n",
        "X_train_clf = train[['Age', 'Salary', 'Country_label']]\n",
        "\n",
        "test = df[-3:]\n",
        "y_test_clf = test['Purchase_label']\n",
        "X_test_clf = test[['Age', 'Salary', 'Country_label']]\n",
        "\n",
        "# Analysis 1: Classify 'Purchased' using 'Country', 'Age', 'Salary'\n",
        "# Create and train a Decision Tree classifier\n",
        "clf_model = DecisionTreeClassifier()\n",
        "clf_model.fit(X_train_clf, y_train_clf)\n",
        "\n",
        "# Predict 'Purchased' for the last three rows\n",
        "y_pred_clf = clf_model.predict(X_test_clf)\n",
        "predicted_purchased = label_encoder.inverse_transform(y_pred_clf)\n",
        "\n",
        "print('Purchase Prediction:', predicted_purchased)\n",
        "\n",
        "# Evaluate the accuracy of the classification model\n",
        "accuracy = accuracy_score(y_test_clf, y_pred_clf)\n",
        "print(\"Accuracy:\", accuracy)\n",
        "\n",
        "# Analysis 2: Regress 'Salary' using 'Country', 'Age', 'Purchased'\n",
        "# Prepare data for regression\n",
        "y_train_reg = train['Salary']\n",
        "X_train_reg = train[['Age', 'Country_label', 'Purchase_label']]\n",
        "\n",
        "y_test_reg = test['Salary']\n",
        "X_test_reg = test[['Age', 'Country_label', 'Purchase_label']]\n",
        "\n",
        "# Create and train an OLS regression model\n",
        "reg_model = sm.OLS(y_train_reg, X_train_reg).fit()\n",
        "print(reg_model.summary())  # Model statistics\n",
        "\n",
        "# Predict 'Salary' for the last three rows\n",
        "y_pred_reg = reg_model.predict(X_test_reg)\n",
        "print('Predicted Salary:', y_pred_reg)\n",
        "\n",
        "# Evaluate the regression model\n",
        "mse = mean_squared_error(y_test_reg, y_pred_reg)\n",
        "rmse = np.sqrt(mse)\n",
        "mae = mean_absolute_error(y_test_reg, y_pred_reg)\n",
        "\n",
        "print(\"Mean Squared Error (MSE):\", mse)\n",
        "print(\"Root Mean Squared Error (RMSE):\", rmse)\n",
        "print(\"Mean Absolute Error (MAE):\", mae)\n"
      ],
      "metadata": {
        "colab": {
          "base_uri": "https://localhost:8080/"
        },
        "id": "Nmd_xwEqccvL",
        "outputId": "51613695-9828-48fa-c18b-220213c609af"
      },
      "execution_count": null,
      "outputs": [
        {
          "output_type": "stream",
          "name": "stdout",
          "text": [
            "Purchase Prediction: ['France' 'France' 'Germany']\n",
            "Accuracy: 0.6666666666666666\n",
            "                                 OLS Regression Results                                \n",
            "=======================================================================================\n",
            "Dep. Variable:                 Salary   R-squared (uncentered):                   0.999\n",
            "Model:                            OLS   Adj. R-squared (uncentered):              0.998\n",
            "Method:                 Least Squares   F-statistic:                              1066.\n",
            "Date:                Tue, 30 Jul 2024   Prob (F-statistic):                    2.92e-06\n",
            "Time:                        07:05:53   Log-Likelihood:                         -63.503\n",
            "No. Observations:                   7   AIC:                                      133.0\n",
            "Df Residuals:                       4   BIC:                                      132.8\n",
            "Df Model:                           3                                                  \n",
            "Covariance Type:            nonrobust                                                  \n",
            "==================================================================================\n",
            "                     coef    std err          t      P>|t|      [0.025      0.975]\n",
            "----------------------------------------------------------------------------------\n",
            "Age             1638.9349     50.829     32.244      0.000    1497.812    1780.058\n",
            "Country_label    259.4197   1128.503      0.230      0.829   -2873.808    3392.647\n",
            "Purchase_label  2183.4614   2060.660      1.060      0.349   -3537.848    7904.770\n",
            "==============================================================================\n",
            "Omnibus:                          nan   Durbin-Watson:                   2.056\n",
            "Prob(Omnibus):                    nan   Jarque-Bera (JB):                1.353\n",
            "Skew:                           1.075   Prob(JB):                        0.508\n",
            "Kurtosis:                       3.115   Cond. No.                         69.8\n",
            "==============================================================================\n",
            "\n",
            "Notes:\n",
            "[1] R² is computed without centering (uncentered) since the model does not contain a constant.\n",
            "[2] Standard Errors assume that the covariance matrix of the errors is correctly specified.\n",
            "Predicted Salary: 7    80852.335170\n",
            "8    82206.163126\n",
            "9    62824.051609\n",
            "dtype: float64\n",
            "Mean Squared Error (MSE): 7166622.510418589\n",
            "Root Mean Squared Error (RMSE): 2677.0548202116797\n",
            "Mean Absolute Error (MAE): 2274.0401452221945\n"
          ]
        },
        {
          "output_type": "stream",
          "name": "stderr",
          "text": [
            "/usr/local/lib/python3.10/dist-packages/statsmodels/stats/stattools.py:74: ValueWarning: omni_normtest is not valid with less than 8 observations; 7 samples were given.\n",
            "  warn(\"omni_normtest is not valid with less than 8 observations; %i \"\n"
          ]
        }
      ]
    }
  ]
}